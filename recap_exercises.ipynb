{
 "cells": [
  {
   "attachments": {},
   "cell_type": "markdown",
   "metadata": {},
   "source": [
    "# Python basics exercises\n",
    "\n",
    "In this section, we will practice a bit with the basics of Python, in preparation for the rest of the course.\n",
    "\n",
    "Don't be intimidated by the pace; we're trying to cram a lot of information into this course, but of course we don't expect you to pick up everything at the same pace.\n",
    "Just do what you manage to do, and ask questions when you have any, or when you're stuck; you'll get plenty of practice throughout the course!"
   ]
  },
  {
   "cell_type": "code",
   "execution_count": 6,
   "metadata": {},
   "outputs": [],
   "source": [
    "text = \"The quick brown fox jumps over the lazy dog. The lazy dog, peeved at being labeled lazy, jumps to prove otherwise.\""
   ]
  },
  {
   "attachments": {},
   "cell_type": "markdown",
   "metadata": {},
   "source": [
    "## About Average\n",
    "\n",
    "Here, this is some text. Can you `print()` it on the screen?"
   ]
  },
  {
   "cell_type": "code",
   "execution_count": null,
   "metadata": {},
   "outputs": [],
   "source": [
    "# Type your code here"
   ]
  },
  {
   "attachments": {},
   "cell_type": "markdown",
   "metadata": {},
   "source": [
    "Okay, how about the `len`gth of this string -- can you `print()` that too?"
   ]
  },
  {
   "cell_type": "code",
   "execution_count": 2,
   "metadata": {},
   "outputs": [
    {
     "data": {
      "text/plain": [
       "114"
      ]
     },
     "execution_count": 2,
     "metadata": {},
     "output_type": "execute_result"
    }
   ],
   "source": [
    "# The outcome of this should be 114\n",
    "len(text)"
   ]
  },
  {
   "attachments": {},
   "cell_type": "markdown",
   "metadata": {},
   "source": [
    "Now, try to figure out what the `.replace()` method does, either using VSCode's built-in help, or by looking it up online. (Or perhaps even asking ChatGPT?)\n",
    "Can you use this method to count the number of letter characters -- that is to say, with the spaces, periods, and commas removed? You can remove something by replacing it with an empty string.\n",
    "\n",
    "Hint: if you can't quite figure it out, try doing it step by step: first, try removing all the spaces, and print that string. Did it work? If so, now remove all the periods, and print the new string again. Finally, also remove the commas, and then count the remaining string.\n",
    "\n",
    "Hint 2: don't store intermediate results to the same `text` variable; this will overwrite its value, which means you cannot use it anymore later on!"
   ]
  },
  {
   "cell_type": "code",
   "execution_count": 32,
   "metadata": {},
   "outputs": [],
   "source": [
    "# The outcome of this should be 90\n",
    "text2 = text.replace(' ','')\n",
    "len(text2)\n",
    "text3 = text2.replace('.','')\n",
    "text4 = text3.replace(',','')\n",
    "\n",
    "n_words = len(text4)"
   ]
  },
  {
   "attachments": {},
   "cell_type": "markdown",
   "metadata": {},
   "source": [
    "Okay, exciting! Now, let's look at another method: `.split()`. What does it do? What happens if you use it on the (original) text?"
   ]
  },
  {
   "cell_type": "code",
   "execution_count": null,
   "metadata": {},
   "outputs": [],
   "source": []
  },
  {
   "attachments": {},
   "cell_type": "markdown",
   "metadata": {},
   "source": [
    "Now, we can do the following to count the number of words in the text:\n",
    "\n",
    "1. Remove the periods and commas from the text\n",
    "2. Split this cleaned version of the text into words\n",
    "3. Calculate the length of this list of words"
   ]
  },
  {
   "cell_type": "code",
   "execution_count": 24,
   "metadata": {},
   "outputs": [],
   "source": [
    "# The outcome of this should be 21\n",
    "word = []\n",
    "text2 = text.replace('.','')\n",
    "text2 = text2.replace(',','')\n",
    "text3 = text2.split()\n",
    "len_text3 = len(text3)"
   ]
  },
  {
   "attachments": {},
   "cell_type": "markdown",
   "metadata": {},
   "source": [
    "Now, using this information (the number of characters and words), can you calculate and print the average word length? Don't copy the values (90 and 21), but make sure to use variables, so that when you change the text at the top of the notebook and re-run everything, you get the result for the new text too."
   ]
  },
  {
   "cell_type": "code",
   "execution_count": 33,
   "metadata": {},
   "outputs": [
    {
     "name": "stdout",
     "output_type": "stream",
     "text": [
      "4.285714285714286\n"
     ]
    }
   ],
   "source": [
    "ave_len = n_words/len_text3\n",
    "print(ave_len)"
   ]
  },
  {
   "attachments": {},
   "cell_type": "markdown",
   "metadata": {},
   "source": [
    "## Lovely Lists\n",
    "\n",
    "All right! With the cleaned list of words you created before, using list indexing, try to do the following:\n",
    "\n",
    "1. Get the third word;\n",
    "2. Get the first four words;\n",
    "3. Get the last four words;\n",
    "4. Get every other word;\n",
    "5. Reverse the list."
   ]
  },
  {
   "cell_type": "code",
   "execution_count": 51,
   "metadata": {},
   "outputs": [
    {
     "name": "stdout",
     "output_type": "stream",
     "text": [
      "['The', 'quick', 'brown', 'fox', 'jumps', 'over', 'the', 'lazy', 'dog.', 'The', 'lazy', 'dog,', 'peeved', 'at', 'being', 'labeled', 'lazy,', 'jumps', 'to', 'prove', 'otherwise.']\n",
      "word:  The\n",
      "Index of word:  0\n",
      "Word The has length 3\n",
      "word:  quick\n",
      "Index of word:  1\n",
      "Word quick has length 5\n",
      "word:  brown\n",
      "Index of word:  2\n",
      "Word brown has length 5\n",
      "word:  fox\n",
      "Index of word:  3\n",
      "Word fox has length 3\n",
      "word:  jumps\n",
      "Index of word:  4\n",
      "Word jumps has length 5\n",
      "word:  over\n",
      "Index of word:  5\n",
      "Word over has length 4\n",
      "word:  the\n",
      "Index of word:  6\n",
      "Word the has length 3\n",
      "word:  lazy\n",
      "Index of word:  7\n",
      "Word lazy has length 4\n",
      "word:  dog.\n",
      "Index of word:  8\n",
      "Word dog. has length 4\n",
      "word:  The\n",
      "Index of word:  0\n",
      "Word The has length 3\n",
      "word:  lazy\n",
      "Index of word:  7\n",
      "Word lazy has length 4\n",
      "word:  dog,\n",
      "Index of word:  11\n",
      "Word dog, has length 4\n",
      "word:  peeved\n",
      "Index of word:  12\n",
      "Word peeved has length 6\n",
      "word:  at\n",
      "Index of word:  13\n",
      "Word at has length 2\n",
      "word:  being\n",
      "Index of word:  14\n",
      "Word being has length 5\n",
      "word:  labeled\n",
      "Index of word:  15\n",
      "Word labeled has length 7\n",
      "word:  lazy,\n",
      "Index of word:  16\n",
      "Word lazy, has length 5\n",
      "word:  jumps\n",
      "Index of word:  4\n",
      "Word jumps has length 5\n",
      "word:  to\n",
      "Index of word:  18\n",
      "Word to has length 2\n",
      "word:  prove\n",
      "Index of word:  19\n",
      "Word prove has length 5\n",
      "word:  otherwise.\n",
      "Index of word:  20\n",
      "Word otherwise. has length 10\n"
     ]
    }
   ],
   "source": [
    "# Outcome: brown\n",
    "\n",
    "# Outcome: The quick brown fox\n",
    "\n",
    "# Outcome: jumps to prove otherwise\n",
    "\n",
    "# Outcome: the brown jumps the dog lazy peeved being lazy to otherwise\n",
    "\n",
    "# Outcome: otherwise prove to jumps ...\n",
    "\n",
    "text_sp = text.split()\n",
    "print(text_sp)\n",
    "for i in text_sp:\n",
    "    print(\"word: \", i)\n",
    "    print(\"Index of word: \", text_sp.index(i))\n",
    "    print(f\"Word {i} has length {len(i)}\")\n"
   ]
  },
  {
   "attachments": {},
   "cell_type": "markdown",
   "metadata": {},
   "source": [
    "Now, try to use a for loop to print each word on a separate line, followed by its length, e.g.: \n",
    "```\n",
    "The: 3\n",
    "quick: 5\n",
    "brown: 5\n",
    "...\n",
    "```"
   ]
  },
  {
   "cell_type": "code",
   "execution_count": 10,
   "metadata": {},
   "outputs": [],
   "source": [
    "# Let's go!"
   ]
  },
  {
   "attachments": {},
   "cell_type": "markdown",
   "metadata": {},
   "source": [
    "Can you change this loop so that it only prints words that are longer than 4 characters? So:\n",
    "```\n",
    "quick\n",
    "brown\n",
    "jumps\n",
    "peeved\n",
    "being\n",
    "labeled\n",
    "jumps\n",
    "prove\n",
    "otherwise\n",
    "```"
   ]
  },
  {
   "cell_type": "code",
   "execution_count": 56,
   "metadata": {},
   "outputs": [
    {
     "name": "stdout",
     "output_type": "stream",
     "text": [
      "['The', 'quick', 'brown', 'fox', 'jumps', 'over', 'the', 'lazy', 'dog.', 'The', 'lazy', 'dog,', 'peeved', 'at', 'being', 'labeled', 'lazy,', 'jumps', 'to', 'prove', 'otherwise.']\n"
     ]
    }
   ],
   "source": []
  },
  {
   "cell_type": "code",
   "execution_count": 57,
   "metadata": {},
   "outputs": [
    {
     "name": "stdout",
     "output_type": "stream",
     "text": [
      "quick\n",
      "brown\n",
      "jumps\n",
      "peeved\n",
      "being\n",
      "labeled\n",
      "lazy,\n",
      "jumps\n",
      "prove\n",
      "otherwise.\n"
     ]
    }
   ],
   "source": [
    "text_split = text.split()\n",
    "for j in text_split:\n",
    "    if len(j) > 4:\n",
    "        print(j)"
   ]
  },
  {
   "attachments": {},
   "cell_type": "markdown",
   "metadata": {},
   "source": [
    "Can you create a for loop that finds the longest word?\n",
    "\n",
    "Hint: you need to keep track of the \"current longest word\" to do this. If you can't figure it out, think about how you would do this if you only had a single word. How about two words? Three words? Can you figure out a pattern? (If not: ask us!)"
   ]
  },
  {
   "cell_type": "code",
   "execution_count": 63,
   "metadata": {},
   "outputs": [
    {
     "name": "stdout",
     "output_type": "stream",
     "text": [
      "The word otherwise. has a length of 10, and is at position 20 of the text.\n"
     ]
    }
   ],
   "source": [
    "# The outcome of this should be \"otherwise\", which is 9 characters long\n",
    "\n",
    "longest_word = None\n",
    "text_split = text.split()\n",
    "for j in text_split:\n",
    "    if longest_word == None:\n",
    "        longest_word = j\n",
    "    elif len(longest_word) <= len(j):\n",
    "        position = int(text_split.index(j))\n",
    "        longest_word = j\n",
    "\n",
    "print(f\"The word {longest_word} has a length of {len(longest_word)}, and is at position {position} of the text.\")"
   ]
  },
  {
   "cell_type": "code",
   "execution_count": null,
   "metadata": {},
   "outputs": [],
   "source": []
  }
 ],
 "metadata": {
  "kernelspec": {
   "display_name": "Python 3",
   "language": "python",
   "name": "python3"
  },
  "language_info": {
   "codemirror_mode": {
    "name": "ipython",
    "version": 3
   },
   "file_extension": ".py",
   "mimetype": "text/x-python",
   "name": "python",
   "nbconvert_exporter": "python",
   "pygments_lexer": "ipython3",
   "version": "3.9.13"
  },
  "orig_nbformat": 4
 },
 "nbformat": 4,
 "nbformat_minor": 2
}
